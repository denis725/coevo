{
 "metadata": {
  "name": ""
 },
 "nbformat": 3,
 "nbformat_minor": 0,
 "worksheets": [
  {
   "cells": [
    {
     "cell_type": "heading",
     "level": 1,
     "metadata": {},
     "source": [
      "Plotting results from julia-generated csv's"
     ]
    },
    {
     "cell_type": "heading",
     "level": 2,
     "metadata": {},
     "source": [
      "Import packages"
     ]
    },
    {
     "cell_type": "code",
     "collapsed": false,
     "input": [
      "import csv\n",
      "import numpy as np\n",
      "import matplotlib\n",
      "import pylab as pl"
     ],
     "language": "python",
     "metadata": {},
     "outputs": [],
     "prompt_number": 1
    },
    {
     "cell_type": "heading",
     "level": 3,
     "metadata": {},
     "source": [
      "dictionary containing the name of the strats"
     ]
    },
    {
     "cell_type": "code",
     "collapsed": false,
     "input": [
      "stratDict = {\"strat1\": \"indiv. learning\",\n",
      "             \"strat2\": \"conformism\",\n",
      "             \"strat3\": \"opp. indiv. learning\",\n",
      "             \"strat4\": \"opp. conformism\",\n",
      "             \"strat5\": \"In Doubt Conform\",\n",
      "             \"strat6\": \"Imitate The Wealthiest\",\n",
      "             \"strat7\": \"scoring PBSL, [4/-1]\",\n",
      "             \"strat8\": \"scoring PBSL, [1/0]\",\n",
      "             \"strat9\": \"averaging PBSL\",\n",
      "             \"strat10\": \"avrg. PBSL w/ po-conf t-o\"}"
     ],
     "language": "python",
     "metadata": {},
     "outputs": [],
     "prompt_number": 2
    },
    {
     "cell_type": "heading",
     "level": 3,
     "metadata": {},
     "source": [
      "import data for plotting behavior of 1 generation"
     ]
    },
    {
     "cell_type": "code",
     "collapsed": false,
     "input": [
      "fileName = \"../julia/coevo/1gen01.csv\"\n",
      "d1 = []\n",
      "i=0\n",
      "with open(fileName, 'rb') as f:\n",
      "    for row in csv.reader(f, delimiter = \";\"):\n",
      "        if i==0:\n",
      "            header1 = row\n",
      "        else:\n",
      "            try:\n",
      "                d1.append([float(d) for d in row])\n",
      "            except:\n",
      "                print i\n",
      "                break\n",
      "        i+=1\n",
      "d1 = np.array(d1)"
     ],
     "language": "python",
     "metadata": {},
     "outputs": [],
     "prompt_number": 3
    },
    {
     "cell_type": "heading",
     "level": 3,
     "metadata": {},
     "source": [
      "Plot"
     ]
    },
    {
     "cell_type": "code",
     "collapsed": false,
     "input": [
      "pl.plot(d1[:, 0] - d1[:, 1] + .5, 'k-')\n",
      "for col in np.transpose(d1[:, 2:]):\n",
      "    pl.plot(col)\n",
      "pl.ylim([0, 1])\n",
      "legend1 = [stratDict[x] for x in header1[2:]]\n",
      "legend1.insert(0, \"pA - pB\")\n",
      "pl.legend(legend1)\n",
      "pl.show()"
     ],
     "language": "python",
     "metadata": {},
     "outputs": [],
     "prompt_number": 4
    },
    {
     "cell_type": "heading",
     "level": 3,
     "metadata": {},
     "source": [
      "import data for plotting evolution of strategy frequencies"
     ]
    },
    {
     "cell_type": "code",
     "collapsed": false,
     "input": [
      "fileName2 = \"../julia/coevo/evo01.csv\"\n",
      "d2 = []\n",
      "i=0\n",
      "with open(fileName2, 'rb') as f:\n",
      "    for row in csv.reader(f, delimiter = \";\"):\n",
      "        if i==0:\n",
      "            header2 = row\n",
      "        else:\n",
      "            try:\n",
      "                d2.append([float(d) for d in row])\n",
      "            except:\n",
      "                print i\n",
      "                break\n",
      "        i+=1"
     ],
     "language": "python",
     "metadata": {},
     "outputs": [],
     "prompt_number": 8
    },
    {
     "cell_type": "code",
     "collapsed": false,
     "input": [
      "d2=np.array(d2)"
     ],
     "language": "python",
     "metadata": {},
     "outputs": [],
     "prompt_number": 9
    },
    {
     "cell_type": "heading",
     "level": 3,
     "metadata": {},
     "source": [
      "Plot"
     ]
    },
    {
     "cell_type": "code",
     "collapsed": false,
     "input": [
      "for col in np.transpose(d2):\n",
      "    pl.plot(col)\n",
      "pl.ylim([0, 1])\n",
      "pl.legend([stratDict[x] for x in header2])\n",
      "pl.show()"
     ],
     "language": "python",
     "metadata": {},
     "outputs": [],
     "prompt_number": 10
    },
    {
     "cell_type": "code",
     "collapsed": false,
     "input": [],
     "language": "python",
     "metadata": {},
     "outputs": [],
     "prompt_number": 7
    }
   ],
   "metadata": {}
  }
 ]
}